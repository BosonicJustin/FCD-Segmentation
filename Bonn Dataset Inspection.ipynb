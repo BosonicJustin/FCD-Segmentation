{
 "cells": [
  {
   "cell_type": "code",
   "execution_count": 32,
   "id": "f35d0e80-3d2b-4550-ae61-edc8a51e0fcc",
   "metadata": {
    "ExecuteTime": {
     "end_time": "2025-04-01T20:05:50.828465Z",
     "start_time": "2025-04-01T20:05:50.700064Z"
    }
   },
   "outputs": [
    {
     "name": "stdout",
     "output_type": "stream",
     "text": [
      "The autoreload extension is already loaded. To reload it, use:\n",
      "  %reload_ext autoreload\n"
     ]
    }
   ],
   "source": [
    "%load_ext autoreload\n",
    "%autoreload 2\n",
    "\n",
    "from utils.visualize_nii import visualize_mri_sample\n",
    "import matplotlib.pyplot as plt"
   ]
  },
  {
   "cell_type": "code",
   "execution_count": 34,
   "id": "4aa1e3e5cbfaa67b",
   "metadata": {},
   "outputs": [
    {
     "data": {
      "application/vnd.jupyter.widget-view+json": {
       "model_id": "dbc619bcf1f944b99b89fc5bc8a5167f",
       "version_major": 2,
       "version_minor": 0
      },
      "text/plain": [
       "VBox(children=(IntSlider(value=128, description='Axial', max=255), IntSlider(value=128, description='Coronal',…"
      ]
     },
     "metadata": {},
     "output_type": "display_data"
    },
    {
     "data": {
      "application/vnd.jupyter.widget-view+json": {
       "model_id": "339413c3293a467d98c4952902411627",
       "version_major": 2,
       "version_minor": 0
      },
      "text/plain": [
       "Output()"
      ]
     },
     "metadata": {},
     "output_type": "display_data"
    }
   ],
   "source": [
    "from data.bonn_data import BonnMRIDataset\n",
    "\n",
    "data = BonnMRIDataset('../Dataset')\n",
    "\n",
    "visualize_mri_sample(data[0])"
   ]
  }
 ],
 "metadata": {
  "kernelspec": {
   "display_name": "Python 3 (ipykernel)",
   "language": "python",
   "name": "python3"
  },
  "language_info": {
   "codemirror_mode": {
    "name": "ipython",
    "version": 3
   },
   "file_extension": ".py",
   "mimetype": "text/x-python",
   "name": "python",
   "nbconvert_exporter": "python",
   "pygments_lexer": "ipython3",
   "version": "3.13.1"
  }
 },
 "nbformat": 4,
 "nbformat_minor": 5
}
