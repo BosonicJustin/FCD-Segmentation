{
 "cells": [
  {
   "cell_type": "code",
   "execution_count": 2,
   "id": "f35d0e80-3d2b-4550-ae61-edc8a51e0fcc",
   "metadata": {
    "ExecuteTime": {
     "end_time": "2025-04-01T20:05:50.828465Z",
     "start_time": "2025-04-01T20:05:50.700064Z"
    }
   },
   "outputs": [],
   "source": [
    "%load_ext autoreload\n",
    "%autoreload 2\n",
    "\n",
    "from utils.visualize_nii import visualize_mri_sample\n",
    "import matplotlib.pyplot as plt"
   ]
  },
  {
   "cell_type": "code",
   "execution_count": null,
   "id": "4aa1e3e5cbfaa67b",
   "metadata": {},
   "outputs": [
    {
     "data": {
      "application/vnd.jupyter.widget-view+json": {
       "model_id": "841c4c5e91f24f4c90c5e4032c9a6866",
       "version_major": 2,
       "version_minor": 0
      },
      "text/plain": [
       "VBox(children=(IntSlider(value=128, description='Axial', max=255), IntSlider(value=128, description='Coronal',…"
      ]
     },
     "metadata": {},
     "output_type": "display_data"
    },
    {
     "data": {
      "application/vnd.jupyter.widget-view+json": {
       "model_id": "2e06635f93a041678cfe7c4e393a5866",
       "version_major": 2,
       "version_minor": 0
      },
      "text/plain": [
       "Output()"
      ]
     },
     "metadata": {},
     "output_type": "display_data"
    }
   ],
   "source": [
    "from data.bonn_data import BonnMRIDataset\n",
    "\n",
    "data = BonnMRIDataset('./Dataset')\n",
    "\n",
    "visualize_mri_sample(data[0])"
   ]
  },
  {
   "cell_type": "code",
   "execution_count": null,
   "id": "caf80760",
   "metadata": {},
   "outputs": [],
   "source": []
  }
 ],
 "metadata": {
  "kernelspec": {
   "display_name": "mri",
   "language": "python",
   "name": "python3"
  },
  "language_info": {
   "codemirror_mode": {
    "name": "ipython",
    "version": 3
   },
   "file_extension": ".py",
   "mimetype": "text/x-python",
   "name": "python",
   "nbconvert_exporter": "python",
   "pygments_lexer": "ipython3",
   "version": "3.12.9"
  }
 },
 "nbformat": 4,
 "nbformat_minor": 5
}
